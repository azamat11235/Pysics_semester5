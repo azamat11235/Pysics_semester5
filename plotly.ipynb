{
 "cells": [
  {
   "cell_type": "code",
   "execution_count": null,
   "metadata": {},
   "outputs": [],
   "source": [
    "import numpy as np\n",
    "from scipy.linalg import circulant, solve_circulant, toeplitz\n",
    "import plotly.graph_objects as go\n",
    "from plotly.subplots import make_subplots"
   ]
  },
  {
   "cell_type": "code",
   "execution_count": null,
   "metadata": {},
   "outputs": [],
   "source": [
    "n = 100"
   ]
  },
  {
   "cell_type": "code",
   "execution_count": null,
   "metadata": {},
   "outputs": [],
   "source": [
    "T = toeplitz(c=[2.0, -1.0] + [0.0] * (n - 2))"
   ]
  },
  {
   "cell_type": "code",
   "execution_count": null,
   "metadata": {},
   "outputs": [],
   "source": [
    "C = circulant([2.0, (1 - n) / n] + [0.0] * (n - 3) + [(1 - n) / n])"
   ]
  },
  {
   "cell_type": "code",
   "execution_count": null,
   "metadata": {},
   "outputs": [],
   "source": [
    "C_inv = np.linalg.inv(C)"
   ]
  },
  {
   "cell_type": "code",
   "execution_count": null,
   "metadata": {},
   "outputs": [],
   "source": [
    "_, s, _ = np.linalg.svd(T)\n",
    "eigs = np.linalg.eigvals(T)"
   ]
  },
  {
   "cell_type": "code",
   "execution_count": null,
   "metadata": {},
   "outputs": [],
   "source": [
    "_, p_s, _ = np.linalg.svd(C_inv @ T)\n",
    "p_eigs = np.linalg.eigvals(C_inv @ T)"
   ]
  },
  {
   "cell_type": "code",
   "execution_count": null,
   "metadata": {},
   "outputs": [],
   "source": []
  },
  {
   "cell_type": "code",
   "execution_count": null,
   "metadata": {},
   "outputs": [],
   "source": [
    "fig = make_subplots(rows=1, cols=2)\n",
    "\n",
    "fig.add_trace(go.Scatter(x=np.arange(n) + 1, y=sorted(s),\n",
    "                    mode='lines',\n",
    "                    name='singular values'),\n",
    "              row=1, col=1)\n",
    "\n",
    "fig.add_trace(go.Scatter(x=eigs.real, y=eigs.imag,\n",
    "                    mode='markers',\n",
    "                    marker_color='rgba(0, 0, 255, .05)',\n",
    "                    marker_size=10,\n",
    "                    name='eigenvalues'),\n",
    "              row=1, col=2)\n",
    "\n",
    "fig.update_layout(title_text=\"Singular values and eigenvalues without preconditioning\")"
   ]
  },
  {
   "cell_type": "code",
   "execution_count": null,
   "metadata": {},
   "outputs": [],
   "source": [
    "fig = make_subplots(rows=1, cols=2)\n",
    "\n",
    "fig.add_trace(go.Scatter(x=np.arange(n) + 1, y=sorted(p_s),\n",
    "                    mode='lines',\n",
    "                    name='singular values'),\n",
    "              row=1, col=1)\n",
    "\n",
    "fig.add_trace(go.Scatter(x=p_eigs.real, y=p_eigs.imag,\n",
    "                    mode='markers',\n",
    "                    marker_color='rgba(0, 0, 255, .05)',\n",
    "                    marker_size=10,\n",
    "                    name='eigenvalues'),\n",
    "              row=1, col=2)\n",
    "\n",
    "fig.update_layout(title_text=\"Singular values and eigenvalues with preconditioning\")"
   ]
  },
  {
   "cell_type": "code",
   "execution_count": null,
   "metadata": {},
   "outputs": [],
   "source": []
  }
 ],
 "metadata": {
  "kernelspec": {
   "display_name": "Python 3",
   "language": "python",
   "name": "python3"
  },
  "language_info": {
   "codemirror_mode": {
    "name": "ipython",
    "version": 3
   },
   "file_extension": ".py",
   "mimetype": "text/x-python",
   "name": "python",
   "nbconvert_exporter": "python",
   "pygments_lexer": "ipython3",
   "version": "3.8.5"
  }
 },
 "nbformat": 4,
 "nbformat_minor": 4
}
